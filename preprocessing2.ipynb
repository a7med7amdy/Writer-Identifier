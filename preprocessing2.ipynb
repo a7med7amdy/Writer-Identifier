{
 "cells": [
  {
   "cell_type": "code",
   "execution_count": 8,
   "metadata": {},
   "outputs": [],
   "source": [
    "import cv2\n",
    "from skimage import io\n",
    "import numpy as np\n",
    "from PIL import Image \n",
    "import os"
   ]
  },
  {
   "cell_type": "code",
   "execution_count": 63,
   "metadata": {},
   "outputs": [],
   "source": [
    "#this function takes the whole image and returns a list of images, each image represent a handwriting text line \n",
    "def lines_segments(imagefile):\n",
    "    image = cv2.imread(imagefile)\n",
    "    gray = cv2.cvtColor(image, cv2.COLOR_BGR2GRAY) \n",
    "    edged = cv2.Canny(gray, 30, 200) \n",
    "    lst=edged.sum(axis=1)\n",
    "    x1=lst[650]\n",
    "    for i in range(651,850):\n",
    "        if lst[i]>x1:\n",
    "            x1=i\n",
    "\n",
    "    x2=lst[2000]\n",
    "    for i in range(2000,2800):\n",
    "        if lst[i]>x2:\n",
    "            x2=i\n",
    "    #cv2.imwrite('out.png', image[x1:x2,:])\n",
    "    image = image[x1:x2,:]\n",
    "    #grayscale\n",
    "    gray = cv2.cvtColor(image,cv2.COLOR_BGR2GRAY)\n",
    "    #binary\n",
    "    ret,thresh = cv2.threshold(gray,127,255,cv2.THRESH_BINARY_INV)\n",
    "    #dilation\n",
    "    kernel = np.ones((5,100), np.uint8)\n",
    "    img_dilation = cv2.dilate(thresh, kernel, iterations=1)\n",
    "    #find contours\n",
    "    ctrs, hier = cv2.findContours(img_dilation.copy(), cv2.RETR_EXTERNAL, cv2.CHAIN_APPROX_SIMPLE)\n",
    "    #sort contours\n",
    "    sorted_ctrs = sorted(ctrs, key=lambda ctr: cv2.boundingRect(ctr)[0])\n",
    "    images = []\n",
    "    for i, ctr in enumerate(sorted_ctrs):\n",
    "        # Get bounding box\n",
    "        x, y, w, h = cv2.boundingRect(ctr) \n",
    "        # Getting ROI\n",
    "        roi = image[y:y+h, x:x+w]\n",
    "        if(len(roi)>20): #20 is thershold you can change this, this is for small lines and points, remove them from return images \n",
    "            images.append(roi)\n",
    "    # write\n",
    "    return images"
   ]
  },
  {
   "cell_type": "code",
   "execution_count": 64,
   "metadata": {},
   "outputs": [],
   "source": [
    "images = lines_segments(\"test.png\")"
   ]
  }
 ],
 "metadata": {
  "kernelspec": {
   "display_name": "Python 3",
   "language": "python",
   "name": "python3"
  },
  "language_info": {
   "codemirror_mode": {
    "name": "ipython",
    "version": 3
   },
   "file_extension": ".py",
   "mimetype": "text/x-python",
   "name": "python",
   "nbconvert_exporter": "python",
   "pygments_lexer": "ipython3",
   "version": "3.7.3"
  }
 },
 "nbformat": 4,
 "nbformat_minor": 4
}
