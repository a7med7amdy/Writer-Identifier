{
 "cells": [
  {
   "cell_type": "markdown",
   "metadata": {},
   "source": [
    "## LBP (Implemented)\n"
   ]
  },
  {
   "cell_type": "code",
   "execution_count": 7,
   "metadata": {},
   "outputs": [],
   "source": [
    "from skimage.feature import local_binary_pattern\n",
    "import skimage.exposure.histogram\n",
    "import skimage.io as io\n",
    "import matplotlib.pyplot as plt\n",
    "import numpy as np"
   ]
  },
  {
   "cell_type": "code",
   "execution_count": 8,
   "metadata": {},
   "outputs": [],
   "source": [
    "def LBP_implemented (img, stride = 1):\n",
    "    newImg = np.zeros((img.shape[0], img.shape[1]))\n",
    "    coordX, coordY = [-1, -1, -1, 0, 1, 1, 1, 0], [-1, 0, 1, 1, 1, 0, -1, -1]\n",
    "    for i in range(stride, img.shape[0]-stride):\n",
    "        for j in range(stride, img.shape[1]-stride):\n",
    "            c = 0\n",
    "            for k in range(8):\n",
    "                if img[i+coordX[k], j+coordY[k]] >= img[i,j]:\n",
    "                    c += 2**(7-k)\n",
    "            newImg[i,j] = c\n",
    "    return newImg[stride : newImg.shape[0]-stride, stride : newImg.shape[1]-stride]"
   ]
  },
  {
   "cell_type": "code",
   "execution_count": 9,
   "metadata": {},
   "outputs": [],
   "source": [
    "def histogram_implemented(img):\n",
    "    hist = np.zeros(256)\n",
    "    img = img.astype(int)\n",
    "    for i in range (img.shape[0]):\n",
    "        for j in range(img.shape[1]):\n",
    "            hist[img[i,j]] += 1\n",
    "    return(hist)"
   ]
  },
  {
   "cell_type": "code",
   "execution_count": 54,
   "metadata": {},
   "outputs": [],
   "source": [
    "#Built-in LBP and Histogram functions\n",
    "\n",
    "def LBP (images, stride = 1):\n",
    "    hist = np.zeros(256)\n",
    "    for img in images:\n",
    "        lbp = local_binary_pattern(img, 8, 1)   #‘default’, ‘ror’, ‘uniform’, ‘var’, nri_uniform\n",
    "        hist += np.asarray(histogram(lbp)).astype(int)\n",
    "    return hist"
   ]
  },
  {
   "cell_type": "code",
   "execution_count": 55,
   "metadata": {},
   "outputs": [
    {
     "data": {
      "text/plain": [
       "[<matplotlib.lines.Line2D at 0xcdbe5b0>]"
      ]
     },
     "execution_count": 55,
     "metadata": {},
     "output_type": "execute_result"
    },
    {
     "data": {
      "image/png": "[encoded data removed]",
      "text/plain": [
       "<Figure size 432x288 with 2 Axes>"
      ]
     },
     "metadata": {},
     "output_type": "display_data"
    }
   ],
   "source": [
    "a1 = io.imread('1/1.png')\n",
    "a1 = a1[910:1750, 240:-90, 0]\n",
    "a2 = io.imread('1/2.png')\n",
    "a2 = a2[910:1750, 240:-90, 0]\n",
    "hist = LBP([a1, a2])\n",
    "fig, axs = plt.subplots(2)\n",
    "axs[0].plot(hist[:220])\n",
    "axs[1].plot(hist)"
   ]
  }
 ],
 "metadata": {
  "kernelspec": {
   "display_name": "Python 3",
   "language": "python",
   "name": "python3"
  },
  "language_info": {
   "codemirror_mode": {
    "name": "ipython",
    "version": 3
   },
   "file_extension": ".py",
   "mimetype": "text/x-python",
   "name": "python",
   "nbconvert_exporter": "python",
   "pygments_lexer": "ipython3",
   "version": "3.6.5"
  }
 },
 "nbformat": 4,
 "nbformat_minor": 2
}
